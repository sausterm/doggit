{
  "nbformat": 4,
  "nbformat_minor": 0,
  "metadata": {
    "colab": {
      "name": "scrape_images.ipynb",
      "provenance": [],
      "collapsed_sections": [],
      "authorship_tag": "ABX9TyNKTFtAEu5ER1EkwLTBSOi+",
      "include_colab_link": true
    },
    "kernelspec": {
      "display_name": "Python 3",
      "name": "python3"
    }
  },
  "cells": [
    {
      "cell_type": "markdown",
      "metadata": {
        "id": "view-in-github",
        "colab_type": "text"
      },
      "source": [
        "<a href=\"https://colab.research.google.com/github/sausterm/doggit/blob/master/scrape_images.ipynb\" target=\"_parent\"><img src=\"https://colab.research.google.com/assets/colab-badge.svg\" alt=\"Open In Colab\"/></a>"
      ]
    },
    {
      "cell_type": "code",
      "metadata": {
        "id": "p8hViJKJ7dKl",
        "collapsed": true
      },
      "source": [
        "%%capture\n",
        "\n",
        "!pip install selenium -q gwpy\n",
        "!pip install Pillow -q gwpy\n",
        "!apt-get update -q gwpy # to update ubuntu to correctly run apt install \n",
        "!apt install chromium-chromedriver -q gwpy\n",
        "!cp /usr/lib/chromium-browser/chromedriver /usr/bin -q gwpy\n",
        "import sys\n",
        "sys.path.insert(0,'/usr/lib/chromium-browser/chromedriver') \n",
        "from selenium import webdriver\n",
        "chrome_options = webdriver.ChromeOptions() \n",
        "chrome_options.add_argument('--headless')\n",
        "chrome_options.add_argument('--no-sandbox') \n",
        "chrome_options.add_argument('--disable-dev-shm-usage') \n",
        "import numpy as np\n",
        "from glob import glob\n",
        "import os\n",
        "import io\n",
        "from PIL import Image\n",
        "import hashlib\n",
        "import requests\n",
        "import pandas as pd\n",
        "from bs4 import BeautifulSoup\n",
        "import time\n",
        "from google.colab import drive"
      ],
      "execution_count": 5,
      "outputs": []
    },
    {
      "cell_type": "code",
      "metadata": {
        "colab": {
          "base_uri": "https://localhost:8080/"
        },
        "id": "r1hl7zJK29Cz",
        "outputId": "b3326ff3-4cb8-42b1-9755-52e7db3d717e"
      },
      "source": [
        "drive.mount('/content/drive')\n",
        "os.chdir('drive/My Drive/Projects/DLND/dog_app')\n",
        "os.listdir()"
      ],
      "execution_count": 6,
      "outputs": [
        {
          "output_type": "stream",
          "text": [
            "Drive already mounted at /content/drive; to attempt to forcibly remount, call drive.mount(\"/content/drive\", force_remount=True).\n"
          ],
          "name": "stdout"
        },
        {
          "output_type": "execute_result",
          "data": {
            "text/plain": [
              "['scrape_images.ipynb',\n",
              " 'haarcascades',\n",
              " 'dogImages',\n",
              " 'lfw',\n",
              " 'test_imgs',\n",
              " 'models',\n",
              " 'ChromeDriver',\n",
              " 'dog_app.ipynb',\n",
              " 'model_dev.ipynb',\n",
              " 'test_scraped_images']"
            ]
          },
          "metadata": {
            "tags": []
          },
          "execution_count": 6
        }
      ]
    },
    {
      "cell_type": "code",
      "metadata": {
        "colab": {
          "base_uri": "https://localhost:8080/"
        },
        "id": "P1KcGcq4_PA0",
        "outputId": "25f1c5cd-7810-431f-cdbf-64f09aeed215"
      },
      "source": [
        "wd = webdriver.Chrome('chromedriver',chrome_options=chrome_options)\n",
        "wd.get('https://google.com')"
      ],
      "execution_count": 7,
      "outputs": [
        {
          "output_type": "stream",
          "text": [
            "/usr/local/lib/python3.6/dist-packages/ipykernel_launcher.py:1: DeprecationWarning: use options instead of chrome_options\n",
            "  \"\"\"Entry point for launching an IPython kernel.\n"
          ],
          "name": "stderr"
        }
      ]
    },
    {
      "cell_type": "code",
      "metadata": {
        "id": "YiozGyF86frA"
      },
      "source": [
        "def fetch_image_urls(query:str, max_links_to_fetch:int, wd:wd, sleep_between_interactions:int=1):\n",
        "    def scroll_to_end(wd):\n",
        "        wd.execute_script(\"window.scrollTo(0, document.body.scrollHeight);\")\n",
        "        time.sleep(sleep_between_interactions)    \n",
        "    \n",
        "    # build the google query\n",
        "    search_url = \"https://www.google.com/search?safe=off&site=&tbm=isch&source=hp&q={q}&oq={q}&gs_l=img\"\n",
        "\n",
        "    # load the page\n",
        "    wd.get(search_url.format(q=query))\n",
        "\n",
        "    image_urls = set()\n",
        "    image_count = 0\n",
        "    results_start = 0\n",
        "    while image_count < max_links_to_fetch:\n",
        "        scroll_to_end(wd)\n",
        "\n",
        "        # get all image thumbnail results\n",
        "        thumbnail_results = wd.find_elements_by_css_selector(\"img.Q4LuWd\")\n",
        "        number_results = len(thumbnail_results)\n",
        "        \n",
        "        print(f\"Found: {number_results} search results. Extracting links from {results_start}:{number_results}\")\n",
        "        \n",
        "        for img in thumbnail_results[results_start:number_results]:\n",
        "            # try to click every thumbnail such that we can get the real image behind it\n",
        "            try:\n",
        "                img.click()\n",
        "                time.sleep(sleep_between_interactions)\n",
        "            except Exception:\n",
        "                continue\n",
        "\n",
        "            # extract image urls    \n",
        "            actual_images = wd.find_elements_by_css_selector('img.n3VNCb')\n",
        "            for actual_image in actual_images:\n",
        "                if actual_image.get_attribute('src') and 'http' in actual_image.get_attribute('src'):\n",
        "                    image_urls.add(actual_image.get_attribute('src'))\n",
        "\n",
        "            image_count = len(image_urls)\n",
        "\n",
        "            if len(image_urls) >= max_links_to_fetch:\n",
        "                print(f\"Found: {len(image_urls)} image links, done!\")\n",
        "                break\n",
        "        else:\n",
        "            print(\"Found:\", len(image_urls), \"image links, looking for more ...\")\n",
        "            time.sleep(30)\n",
        "            return\n",
        "            load_more_button = wd.find_element_by_css_selector(\".mye4qd\")\n",
        "            if load_more_button:\n",
        "                wd.execute_script(\"document.querySelector('.mye4qd').click();\")\n",
        "\n",
        "        # move the result startpoint further down\n",
        "        results_start = len(thumbnail_results)\n",
        "\n",
        "    return image_urls"
      ],
      "execution_count": 8,
      "outputs": []
    },
    {
      "cell_type": "code",
      "metadata": {
        "id": "Z7fuNPT06jSH"
      },
      "source": [
        "def persist_image(folder_path:str,url:str):\n",
        "    try:\n",
        "        image_content = requests.get(url).content\n",
        "\n",
        "    except Exception as e:\n",
        "      pass\n",
        "        #print(f\"ERROR - Could not download {url} - {e}\")\n",
        "\n",
        "    try:\n",
        "        image_file = io.BytesIO(image_content)\n",
        "        image = Image.open(image_file).convert('RGB')\n",
        "        file_path = os.path.join(folder_path,hashlib.sha1(image_content).hexdigest()[:10] + '.jpg')\n",
        "        with open(file_path, 'wb') as f:\n",
        "            image.save(f, \"JPEG\", quality=85)\n",
        "        #print(f\"SUCCESS - saved {url} - as {file_path}\")\n",
        "    except Exception as e:\n",
        "      pass\n",
        "        #print(f\"ERROR - Could not save {url} - {e}\")"
      ],
      "execution_count": 9,
      "outputs": []
    },
    {
      "cell_type": "code",
      "metadata": {
        "id": "PuAtvwoV7S7I"
      },
      "source": [
        "def search_and_download(search_term:str,driver_path:str,target_path,number_images=5):\n",
        "    #target_folder = os.path.join(target_path,'_'.join(search_term.lower().split(' ')))\n",
        "\n",
        "    if not os.path.exists(target_path):\n",
        "        os.makedirs(target_path)\n",
        "\n",
        "    \"\"\"with webdriver.Chrome(executable_path=driver_path) as wd:\"\"\"\n",
        "    res = fetch_image_urls(search_term, number_images, wd=wd, sleep_between_interactions=0.5)\n",
        "    print('urls fetched.')\n",
        "    for elem in res:\n",
        "        persist_image(target_path,elem)\n",
        "    print('uploaded {} images'.format(search_term))"
      ],
      "execution_count": 10,
      "outputs": []
    },
    {
      "cell_type": "code",
      "metadata": {
        "colab": {
          "base_uri": "https://localhost:8080/"
        },
        "id": "9O0pgeGV74RG",
        "outputId": "beaae588-7679-4d15-dc82-48edf95fe040"
      },
      "source": [
        "DRIVER_PATH= \"./ChromeDriver/chromedriver\"\n",
        "search_term = 'Rock'\n",
        "target_path = \"./test_scraped_images\"\n",
        "\n",
        "search_and_download(\n",
        "    search_term = search_term,\n",
        "    driver_path = DRIVER_PATH,\n",
        "    target_path = target_path\n",
        ")"
      ],
      "execution_count": 11,
      "outputs": [
        {
          "output_type": "stream",
          "text": [
            "Found: 100 search results. Extracting links from 0:100\n",
            "Found: 5 image links, done!\n",
            "urls fetched.\n",
            "uploaded Rock images\n"
          ],
          "name": "stdout"
        }
      ]
    },
    {
      "cell_type": "code",
      "metadata": {
        "id": "NPKLyMwYXg5p",
        "colab": {
          "base_uri": "https://localhost:8080/"
        },
        "outputId": "fe92c96b-c24c-4aa0-82f9-5402014b0007"
      },
      "source": [
        "os.listdir()\n",
        "dog_files_train = np.array(glob(\"dogImages/train/*/*\"))\n",
        "dog_files_valid = np.array(glob(\"dogImages/valid/*/*\"))\n",
        "dog_files_test = np.array(glob(\"dogImages/test/*/*\"))\n",
        "\n",
        "print(\"length of dog_files_train: \", len(dog_files_train), \"\\nlength of dog_files_valid: \", \n",
        "len(dog_files_valid), \"\\nlength of dog_files_test: \",  len(dog_files_test))\n",
        "breeds = [] \n",
        "\n",
        "for i in range(len(dog_files_train)):\n",
        "  breeds.append(str(dog_files_train[i]).split('/')[2][4:])\n",
        "breeds = np.array(breeds)\n",
        "breeds = np.unique(breeds)\n",
        "breeds = list(breeds)\n",
        "\n",
        "lst = [x for x in range(len(breeds))]\n",
        "breeds = list(zip(lst,breeds))\n"
      ],
      "execution_count": 13,
      "outputs": [
        {
          "output_type": "stream",
          "text": [
            "length of dog_files_train:  19465 \n",
            "length of dog_files_valid:  835 \n",
            "length of dog_files_test:  836\n"
          ],
          "name": "stdout"
        }
      ]
    },
    {
      "cell_type": "code",
      "metadata": {
        "id": "uFMFWMOAnBFc"
      },
      "source": [
        "%%capture\n",
        "wd = webdriver.Chrome('chromedriver',chrome_options=chrome_options)\n"
      ],
      "execution_count": 25,
      "outputs": []
    },
    {
      "cell_type": "markdown",
      "metadata": {
        "id": "ss5AH3-Amm4u"
      },
      "source": [
        ""
      ]
    },
    {
      "cell_type": "code",
      "metadata": {
        "id": "eW_VB7Ke8iul",
        "colab": {
          "base_uri": "https://localhost:8080/"
        },
        "collapsed": true,
        "outputId": "66346115-2009-4cc1-9906-bfbc7dedf9b3"
      },
      "source": [
        "\n",
        "for i, breed in breeds[50:51]:\n",
        "  \n",
        "  n = str(round((0.001*(i+1)),3))[2:]\n",
        "  while len(n)<3:\n",
        "    n = n+\"0\"\n",
        "  f = \"{}.{}\".format(n,str(breed))\n",
        "\n",
        "  target_path = \"./dogImages/train/{}\".format(f)\n",
        "  search_term = breed\n",
        "  print(\"search term = {}\".format(search_term))\n",
        "\n",
        "  search_and_download(\n",
        "    search_term = search_term,\n",
        "    driver_path = DRIVER_PATH,\n",
        "    target_path = target_path,\n",
        "    number_images = 10\n",
        "  )\n",
        "  print(target_path)"
      ],
      "execution_count": 26,
      "outputs": [
        {
          "output_type": "stream",
          "text": [
            "search term = Chow_chow\n",
            "Found: 100 search results. Extracting links from 0:100\n",
            "Found: 10 image links, done!\n",
            "urls fetched.\n",
            "uploaded Chow_chow images\n",
            "./dogImages/train/051.Chow_chow\n"
          ],
          "name": "stdout"
        }
      ]
    },
    {
      "cell_type": "code",
      "metadata": {
        "id": "HA69t_YPBrpE"
      },
      "source": [
        ""
      ],
      "execution_count": null,
      "outputs": []
    }
  ]
}